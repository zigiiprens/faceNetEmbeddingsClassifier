{
 "metadata": {
  "language_info": {
   "codemirror_mode": {
    "name": "ipython",
    "version": 3
   },
   "file_extension": ".py",
   "mimetype": "text/x-python",
   "name": "python",
   "nbconvert_exporter": "python",
   "pygments_lexer": "ipython3",
   "version": "3.6.9-final"
  },
  "orig_nbformat": 2,
  "kernelspec": {
   "name": "python_defaultSpec_1601033898493",
   "display_name": "Python 3.6.9 64-bit ('faceNetEmbeddingsClassifier': pipenv)"
  }
 },
 "nbformat": 4,
 "nbformat_minor": 2,
 "cells": [
  {
   "cell_type": "code",
   "execution_count": 1,
   "metadata": {
    "tags": []
   },
   "outputs": [],
   "source": [
    "# import tensorflow as tf\n",
    "# tf.compat.v1.enable_eager_execution()\n",
    "import time\n",
    "import numpy as np\n",
    "import pandas as pd\n",
    "from sklearn.model_selection import train_test_split\n",
    "from sklearn import preprocessing\n",
    "lb = preprocessing.LabelBinarizer()\n",
    "le = preprocessing.LabelEncoder()"
   ]
  },
  {
   "cell_type": "code",
   "execution_count": 2,
   "metadata": {},
   "outputs": [],
   "source": [
    "# Load data\n",
    "data = pd.read_csv(\"data/v2/data.csv\",  header=None)\n",
    "target = pd.read_csv(\"data/v2/id.csv\", header=None)"
   ]
  },
  {
   "cell_type": "code",
   "execution_count": 3,
   "metadata": {
    "tags": []
   },
   "outputs": [
    {
     "output_type": "stream",
     "name": "stdout",
     "text": "INFO data\n<class 'pandas.core.frame.DataFrame'>\nRangeIndex: 403 entries, 0 to 402\nData columns (total 128 columns):\n #   Column  Dtype  \n---  ------  -----  \n 0   0       float64\n 1   1       float64\n 2   2       float64\n 3   3       float64\n 4   4       float64\n 5   5       float64\n 6   6       float64\n 7   7       float64\n 8   8       float64\n 9   9       float64\n 10  10      float64\n 11  11      float64\n 12  12      float64\n 13  13      float64\n 14  14      float64\n 15  15      float64\n 16  16      float64\n 17  17      float64\n 18  18      float64\n 19  19      float64\n 20  20      float64\n 21  21      float64\n 22  22      float64\n 23  23      float64\n 24  24      float64\n 25  25      float64\n 26  26      float64\n 27  27      float64\n 28  28      float64\n 29  29      float64\n 30  30      float64\n 31  31      float64\n 32  32      float64\n 33  33      float64\n 34  34      float64\n 35  35      float64\n 36  36      float64\n 37  37      float64\n 38  38      float64\n 39  39      float64\n 40  40      float64\n 41  41      float64\n 42  42      float64\n 43  43      float64\n 44  44      float64\n 45  45      float64\n 46  46      float64\n 47  47      float64\n 48  48      float64\n 49  49      float64\n 50  50      float64\n 51  51      float64\n 52  52      float64\n 53  53      float64\n 54  54      float64\n 55  55      float64\n 56  56      float64\n 57  57      float64\n 58  58      float64\n 59  59      float64\n 60  60      float64\n 61  61      float64\n 62  62      float64\n 63  63      float64\n 64  64      float64\n 65  65      float64\n 66  66      float64\n 67  67      float64\n 68  68      float64\n 69  69      float64\n 70  70      float64\n 71  71      float64\n 72  72      float64\n 73  73      float64\n 74  74      float64\n 75  75      float64\n 76  76      float64\n 77  77      float64\n 78  78      float64\n 79  79      float64\n 80  80      float64\n 81  81      float64\n 82  82      float64\n 83  83      float64\n 84  84      float64\n 85  85      float64\n 86  86      float64\n 87  87      float64\n 88  88      float64\n 89  89      float64\n 90  90      float64\n 91  91      float64\n 92  92      float64\n 93  93      float64\n 94  94      float64\n 95  95      float64\n 96  96      float64\n 97  97      float64\n 98  98      float64\n 99  99      float64\n 100 100     float64\n 101 101     float64\n 102 102     float64\n 103 103     float64\n 104 104     float64\n 105 105     float64\n 106 106     float64\n 107 107     float64\n 108 108     float64\n 109 109     float64\n 110 110     float64\n 111 111     float64\n 112 112     float64\n 113 113     float64\n 114 114     float64\n 115 115     float64\n 116 116     float64\n 117 117     float64\n 118 118     float64\n 119 119     float64\n 120 120     float64\n 121 121     float64\n 122 122     float64\n 123 123     float64\n 124 124     float64\n 125 125     float64\n 126 126     float64\n 127 127     float64\ndtypes: float64(128)\nmemory usage: 403.1 KB\nNone\nINFO target\n<class 'pandas.core.frame.DataFrame'>\nRangeIndex: 403 entries, 0 to 402\nData columns (total 1 columns):\n #   Column  Non-Null Count  Dtype\n---  ------  --------------  -----\n 0   0       403 non-null    int64\ndtypes: int64(1)\nmemory usage: 3.3 KB\nNone\n"
    }
   ],
   "source": [
    "#print(data.head)\n",
    "print(\"INFO data\")\n",
    "print(data.info(verbose=True))\n",
    "print(\"INFO target\")\n",
    "print(target.info(verbose=True))"
   ]
  },
  {
   "cell_type": "code",
   "execution_count": 4,
   "metadata": {
    "tags": []
   },
   "outputs": [
    {
     "output_type": "stream",
     "name": "stdout",
     "text": "INFO data train ndim  2\nINFO data train shape  (403, 128)\nINFO data train example [[-0.02098308  0.14330864 -0.06685185 ... -0.08917168 -0.03871956\n  -0.02110493]\n [-0.00516151  0.14268468 -0.03437199 ... -0.0891209  -0.01322121\n  -0.02910456]\n [-0.00589333  0.09212484 -0.07247945 ... -0.10010736 -0.05481427\n  -0.03378614]\n ...\n [-0.08088823  0.06747486  0.12673211 ... -0.07030995  0.0410323\n  -0.0464632 ]\n [-0.0644524   0.03922407  0.1310685  ... -0.06172986  0.04847588\n  -0.07036125]\n [-0.0860193   0.02960051  0.10438477 ... -0.09377543  0.0331197\n  -0.05067415]]\nINFO data target ndim  2\nINFO data target shape  (403, 8)\nINFO data target example [[1 0 0 ... 0 0 0]\n [1 0 0 ... 0 0 0]\n [1 0 0 ... 0 0 0]\n ...\n [0 0 0 ... 0 0 1]\n [0 0 0 ... 0 0 1]\n [0 0 0 ... 0 0 1]]\n"
    }
   ],
   "source": [
    "# Data train into numpy\n",
    "X = np.array(data.values)\n",
    "print(\"INFO data train ndim \", X.ndim)\n",
    "print(\"INFO data train shape \", X.shape)\n",
    "print(\"INFO data train example\", X[:-10])\n",
    "# Data target into numpy\n",
    "y = np.array(target.values)\n",
    "le.fit([0, 1, 2, 3, 4, 5, 6, 7])\n",
    "y = le.transform(y)\n",
    "y = lb.fit_transform(y)\n",
    "print(\"INFO data target ndim \", y.ndim)\n",
    "print(\"INFO data target shape \", y.shape)\n",
    "print(\"INFO data target example\", y[:])"
   ]
  },
  {
   "cell_type": "code",
   "execution_count": 5,
   "metadata": {},
   "outputs": [],
   "source": [
    "# Separate train and test data\n",
    "X_train, X_test, y_train, y_test = train_test_split(X, y, test_size=0.2, random_state=42)"
   ]
  },
  {
   "cell_type": "code",
   "execution_count": 73,
   "metadata": {},
   "outputs": [],
   "source": [
    "# import tensorflow keras backend\n",
    "import tensorflow as tf\n",
    "from tensorflow.keras.models import Sequential\n",
    "from tensorflow.keras.layers import Embedding, Flatten, Dense, Dropout, Conv1D, MaxPooling1D"
   ]
  },
  {
   "cell_type": "code",
   "execution_count": 7,
   "metadata": {},
   "outputs": [
    {
     "output_type": "execute_result",
     "data": {
      "text/plain": "(1, 128)"
     },
     "metadata": {},
     "execution_count": 7
    }
   ],
   "source": [
    "(1,X_train.shape[1])"
   ]
  },
  {
   "cell_type": "code",
   "execution_count": 104,
   "metadata": {},
   "outputs": [],
   "source": [
    "# Build keras model template\n",
    "def build_model():\n",
    "    model = tf.keras.Sequential()\n",
    "    model.add(tf.keras.layers.Dense(units=512, activation='tanh', input_dim=(X_train.shape[1])))\n",
    "    model.add(tf.keras.layers.Dropout(rate=0.2))\n",
    "    model.add(tf.keras.layers.Dense(units=256, activation='tanh', input_dim=(X_train.shape[1])))\n",
    "    model.add(tf.keras.layers.Dropout(rate=0.2))\n",
    "    model.add(tf.keras.layers.Dense(units=128, activation='tanh', input_dim=(X_train.shape[1])))\n",
    "    model.add(tf.keras.layers.Dropout(rate=0.2))\n",
    "    model.add(tf.keras.layers.Dense(units=8, activation='softmax', name=\"output_node\"))          \n",
    "    model.compile(optimizer='sgd',\n",
    "                loss=tf.keras.losses.cosine_proximity,\n",
    "                metrics=[tf.keras.metrics.cosine_proximity])\n",
    "    return model\n",
    "\n",
    "def create_model(my_learning_rate):\n",
    "  \"\"\"Create and compile a deep neural net.\"\"\"\n",
    "  \n",
    "  # All models in this course are sequential.\n",
    "  model = tf.keras.models.Sequential()\n",
    "\n",
    "  # The features are stored in a two-dimensional 28X28 array. \n",
    "  # Flatten that two-dimensional array into a a one-dimensional \n",
    "  # 784-element array.\n",
    "\n",
    "  # Define the first hidden layer.   \n",
    "  model.add(tf.keras.layers.Dense(units=32, activation='relu', input_dim=(X_train.shape[1])))\n",
    "  \n",
    "  # Define a dropout regularization layer. \n",
    "  model.add(tf.keras.layers.Dropout(rate=0.2))\n",
    "\n",
    "  # Define the output layer. The units parameter is set to 10 because\n",
    "  # the model must choose among 10 possible output values (representing\n",
    "  # the digits from 0 to 9, inclusive).\n",
    "  #\n",
    "  # Don't change this layer.\n",
    "  model.add(tf.keras.layers.Dense(units=8, activation='softmax', name=\"output_node\"))    \n",
    "                           \n",
    "  # Construct the layers into a model that TensorFlow can execute.  \n",
    "  # Notice that the loss function for multi-class classification\n",
    "  # is different than the loss function for binary classification.  \n",
    "  model.compile(optimizer=tf.keras.optimizers.RMSprop(lr=my_learning_rate),\n",
    "                loss=tf.keras.losses.sparse_categorical_crossentropy,\n",
    "                metrics=[tf.keras.metrics.categorical_crossentropy])\n",
    "  \n",
    "  return model  "
   ]
  },
  {
   "cell_type": "code",
   "execution_count": 105,
   "metadata": {
    "tags": []
   },
   "outputs": [],
   "source": [
    "# Building model\n",
    "model = build_model()\n",
    "#model = create_model(0.0005)"
   ]
  },
  {
   "cell_type": "code",
   "execution_count": 52,
   "metadata": {
    "tags": []
   },
   "outputs": [
    {
     "output_type": "execute_result",
     "data": {
      "text/plain": "'2020-09-25 12:08:35'"
     },
     "metadata": {},
     "execution_count": 52
    }
   ],
   "source": [
    "ts = time.strftime(\"%Y-%m-%d %H:%M:%S\", time.gmtime())\n",
    "ts"
   ]
  },
  {
   "cell_type": "code",
   "execution_count": 53,
   "metadata": {},
   "outputs": [],
   "source": [
    "# Compile the model version 1\n",
    "\n",
    "cp_callback = tf.keras.callbacks.ModelCheckpoint(\"model/ckps/v1/weights.{epoch:02d}-v1.hdf5\", save_weights_only=True, verbose=0)"
   ]
  },
  {
   "cell_type": "code",
   "execution_count": 54,
   "metadata": {},
   "outputs": [],
   "source": [
    "# Compile the model version 2\n",
    "model.compile(optimizer=tf.keras.optimizers.RMSprop(lr=0.0003), \n",
    "              loss=tf.keras.losses.categorical_crossentropy, \n",
    "              metrics=['accuracy'])\n",
    "cp_callback = tf.keras.callbacks.ModelCheckpoint(\"model/ckps/v2/weights.{epoch:02d}-v2\", save_weights_only=True, verbose=0)"
   ]
  },
  {
   "cell_type": "code",
   "execution_count": 106,
   "metadata": {
    "tags": [
     "outputPrepend"
    ]
   },
   "outputs": [
    {
     "output_type": "stream",
     "name": "stdout",
     "text": "_weights`. The model's weights will be saved, but unlike with TensorFlow optimizers in the TensorFlow format the optimizer's state will not be saved.\n\nConsider using a TensorFlow optimizer from `tf.train`.\n322/322 [==============================] - 0s 104us/step - loss: -0.6551 - cosine_proximity: -0.6551\nEpoch 18/50\n 32/322 [=>............................] - ETA: 0s - loss: -0.6627 - cosine_proximity: -0.6627WARNING:tensorflow:This model was compiled with a Keras optimizer (<tensorflow.python.keras.optimizers.SGD object at 0x7fcf80079438>) but is being saved in TensorFlow format with `save_weights`. The model's weights will be saved, but unlike with TensorFlow optimizers in the TensorFlow format the optimizer's state will not be saved.\n\nConsider using a TensorFlow optimizer from `tf.train`.\n322/322 [==============================] - 0s 111us/step - loss: -0.6738 - cosine_proximity: -0.6738\nEpoch 19/50\n 32/322 [=>............................] - ETA: 0s - loss: -0.6683 - cosine_proximity: -0.6683WARNING:tensorflow:This model was compiled with a Keras optimizer (<tensorflow.python.keras.optimizers.SGD object at 0x7fcf80079438>) but is being saved in TensorFlow format with `save_weights`. The model's weights will be saved, but unlike with TensorFlow optimizers in the TensorFlow format the optimizer's state will not be saved.\n\nConsider using a TensorFlow optimizer from `tf.train`.\n322/322 [==============================] - 0s 117us/step - loss: -0.6921 - cosine_proximity: -0.6921\nEpoch 20/50\n 32/322 [=>............................] - ETA: 0s - loss: -0.6673 - cosine_proximity: -0.6673WARNING:tensorflow:This model was compiled with a Keras optimizer (<tensorflow.python.keras.optimizers.SGD object at 0x7fcf80079438>) but is being saved in TensorFlow format with `save_weights`. The model's weights will be saved, but unlike with TensorFlow optimizers in the TensorFlow format the optimizer's state will not be saved.\n\nConsider using a TensorFlow optimizer from `tf.train`.\n322/322 [==============================] - 0s 109us/step - loss: -0.7097 - cosine_proximity: -0.7097\nEpoch 21/50\n 32/322 [=>............................] - ETA: 0s - loss: -0.7207 - cosine_proximity: -0.7207WARNING:tensorflow:This model was compiled with a Keras optimizer (<tensorflow.python.keras.optimizers.SGD object at 0x7fcf80079438>) but is being saved in TensorFlow format with `save_weights`. The model's weights will be saved, but unlike with TensorFlow optimizers in the TensorFlow format the optimizer's state will not be saved.\n\nConsider using a TensorFlow optimizer from `tf.train`.\n322/322 [==============================] - 0s 103us/step - loss: -0.7268 - cosine_proximity: -0.7268\nEpoch 22/50\n 32/322 [=>............................] - ETA: 0s - loss: -0.7363 - cosine_proximity: -0.7363WARNING:tensorflow:This model was compiled with a Keras optimizer (<tensorflow.python.keras.optimizers.SGD object at 0x7fcf80079438>) but is being saved in TensorFlow format with `save_weights`. The model's weights will be saved, but unlike with TensorFlow optimizers in the TensorFlow format the optimizer's state will not be saved.\n\nConsider using a TensorFlow optimizer from `tf.train`.\n322/322 [==============================] - 0s 95us/step - loss: -0.7432 - cosine_proximity: -0.7432\nEpoch 23/50\n 32/322 [=>............................] - ETA: 0s - loss: -0.7570 - cosine_proximity: -0.7570WARNING:tensorflow:This model was compiled with a Keras optimizer (<tensorflow.python.keras.optimizers.SGD object at 0x7fcf80079438>) but is being saved in TensorFlow format with `save_weights`. The model's weights will be saved, but unlike with TensorFlow optimizers in the TensorFlow format the optimizer's state will not be saved.\n\nConsider using a TensorFlow optimizer from `tf.train`.\n322/322 [==============================] - 0s 125us/step - loss: -0.7585 - cosine_proximity: -0.7585\nEpoch 24/50\n 32/322 [=>............................] - ETA: 0s - loss: -0.7474 - cosine_proximity: -0.7474WARNING:tensorflow:This model was compiled with a Keras optimizer (<tensorflow.python.keras.optimizers.SGD object at 0x7fcf80079438>) but is being saved in TensorFlow format with `save_weights`. The model's weights will be saved, but unlike with TensorFlow optimizers in the TensorFlow format the optimizer's state will not be saved.\n\nConsider using a TensorFlow optimizer from `tf.train`.\n322/322 [==============================] - 0s 98us/step - loss: -0.7732 - cosine_proximity: -0.7732\nEpoch 25/50\n 32/322 [=>............................] - ETA: 0s - loss: -0.7665 - cosine_proximity: -0.7665WARNING:tensorflow:This model was compiled with a Keras optimizer (<tensorflow.python.keras.optimizers.SGD object at 0x7fcf80079438>) but is being saved in TensorFlow format with `save_weights`. The model's weights will be saved, but unlike with TensorFlow optimizers in the TensorFlow format the optimizer's state will not be saved.\n\nConsider using a TensorFlow optimizer from `tf.train`.\n322/322 [==============================] - 0s 103us/step - loss: -0.7870 - cosine_proximity: -0.7870\nEpoch 26/50\n 32/322 [=>............................] - ETA: 0s - loss: -0.7916 - cosine_proximity: -0.7916WARNING:tensorflow:This model was compiled with a Keras optimizer (<tensorflow.python.keras.optimizers.SGD object at 0x7fcf80079438>) but is being saved in TensorFlow format with `save_weights`. The model's weights will be saved, but unlike with TensorFlow optimizers in the TensorFlow format the optimizer's state will not be saved.\n\nConsider using a TensorFlow optimizer from `tf.train`.\n322/322 [==============================] - 0s 106us/step - loss: -0.7998 - cosine_proximity: -0.7998\nEpoch 27/50\n 32/322 [=>............................] - ETA: 0s - loss: -0.7795 - cosine_proximity: -0.7795WARNING:tensorflow:This model was compiled with a Keras optimizer (<tensorflow.python.keras.optimizers.SGD object at 0x7fcf80079438>) but is being saved in TensorFlow format with `save_weights`. The model's weights will be saved, but unlike with TensorFlow optimizers in the TensorFlow format the optimizer's state will not be saved.\n\nConsider using a TensorFlow optimizer from `tf.train`.\n322/322 [==============================] - 0s 97us/step - loss: -0.8120 - cosine_proximity: -0.8120\nEpoch 28/50\n 32/322 [=>............................] - ETA: 0s - loss: -0.8018 - cosine_proximity: -0.8018WARNING:tensorflow:This model was compiled with a Keras optimizer (<tensorflow.python.keras.optimizers.SGD object at 0x7fcf80079438>) but is being saved in TensorFlow format with `save_weights`. The model's weights will be saved, but unlike with TensorFlow optimizers in the TensorFlow format the optimizer's state will not be saved.\n\nConsider using a TensorFlow optimizer from `tf.train`.\n322/322 [==============================] - 0s 107us/step - loss: -0.8230 - cosine_proximity: -0.8230\nEpoch 29/50\n 32/322 [=>............................] - ETA: 0s - loss: -0.8504 - cosine_proximity: -0.8504WARNING:tensorflow:This model was compiled with a Keras optimizer (<tensorflow.python.keras.optimizers.SGD object at 0x7fcf80079438>) but is being saved in TensorFlow format with `save_weights`. The model's weights will be saved, but unlike with TensorFlow optimizers in the TensorFlow format the optimizer's state will not be saved.\n\nConsider using a TensorFlow optimizer from `tf.train`.\n322/322 [==============================] - 0s 96us/step - loss: -0.8335 - cosine_proximity: -0.8335\nEpoch 30/50\n 32/322 [=>............................] - ETA: 0s - loss: -0.8472 - cosine_proximity: -0.8472WARNING:tensorflow:This model was compiled with a Keras optimizer (<tensorflow.python.keras.optimizers.SGD object at 0x7fcf80079438>) but is being saved in TensorFlow format with `save_weights`. The model's weights will be saved, but unlike with TensorFlow optimizers in the TensorFlow format the optimizer's state will not be saved.\n\nConsider using a TensorFlow optimizer from `tf.train`.\n322/322 [==============================] - 0s 115us/step - loss: -0.8437 - cosine_proximity: -0.8437\nEpoch 31/50\n 32/322 [=>............................] - ETA: 0s - loss: -0.8717 - cosine_proximity: -0.8717WARNING:tensorflow:This model was compiled with a Keras optimizer (<tensorflow.python.keras.optimizers.SGD object at 0x7fcf80079438>) but is being saved in TensorFlow format with `save_weights`. The model's weights will be saved, but unlike with TensorFlow optimizers in the TensorFlow format the optimizer's state will not be saved.\n\nConsider using a TensorFlow optimizer from `tf.train`.\n322/322 [==============================] - 0s 131us/step - loss: -0.8531 - cosine_proximity: -0.8531\nEpoch 32/50\n 32/322 [=>............................] - ETA: 0s - loss: -0.8626 - cosine_proximity: -0.8626WARNING:tensorflow:This model was compiled with a Keras optimizer (<tensorflow.python.keras.optimizers.SGD object at 0x7fcf80079438>) but is being saved in TensorFlow format with `save_weights`. The model's weights will be saved, but unlike with TensorFlow optimizers in the TensorFlow format the optimizer's state will not be saved.\n\nConsider using a TensorFlow optimizer from `tf.train`.\n322/322 [==============================] - 0s 111us/step - loss: -0.8615 - cosine_proximity: -0.8615\nEpoch 33/50\n 32/322 [=>............................] - ETA: 0s - loss: -0.8750 - cosine_proximity: -0.8750WARNING:tensorflow:This model was compiled with a Keras optimizer (<tensorflow.python.keras.optimizers.SGD object at 0x7fcf80079438>) but is being saved in TensorFlow format with `save_weights`. The model's weights will be saved, but unlike with TensorFlow optimizers in the TensorFlow format the optimizer's state will not be saved.\n\nConsider using a TensorFlow optimizer from `tf.train`.\n322/322 [==============================] - 0s 101us/step - loss: -0.8694 - cosine_proximity: -0.8694\nEpoch 34/50\n 32/322 [=>............................] - ETA: 0s - loss: -0.8720 - cosine_proximity: -0.8720WARNING:tensorflow:This model was compiled with a Keras optimizer (<tensorflow.python.keras.optimizers.SGD object at 0x7fcf80079438>) but is being saved in TensorFlow format with `save_weights`. The model's weights will be saved, but unlike with TensorFlow optimizers in the TensorFlow format the optimizer's state will not be saved.\n\nConsider using a TensorFlow optimizer from `tf.train`.\n322/322 [==============================] - 0s 108us/step - loss: -0.8767 - cosine_proximity: -0.8767\nEpoch 35/50\n 32/322 [=>............................] - ETA: 0s - loss: -0.8753 - cosine_proximity: -0.8753WARNING:tensorflow:This model was compiled with a Keras optimizer (<tensorflow.python.keras.optimizers.SGD object at 0x7fcf80079438>) but is being saved in TensorFlow format with `save_weights`. The model's weights will be saved, but unlike with TensorFlow optimizers in the TensorFlow format the optimizer's state will not be saved.\n\nConsider using a TensorFlow optimizer from `tf.train`.\n322/322 [==============================] - 0s 92us/step - loss: -0.8834 - cosine_proximity: -0.8834\nEpoch 36/50\n 32/322 [=>............................] - ETA: 0s - loss: -0.8643 - cosine_proximity: -0.8643WARNING:tensorflow:This model was compiled with a Keras optimizer (<tensorflow.python.keras.optimizers.SGD object at 0x7fcf80079438>) but is being saved in TensorFlow format with `save_weights`. The model's weights will be saved, but unlike with TensorFlow optimizers in the TensorFlow format the optimizer's state will not be saved.\n\nConsider using a TensorFlow optimizer from `tf.train`.\n322/322 [==============================] - 0s 105us/step - loss: -0.8899 - cosine_proximity: -0.8899\nEpoch 37/50\n 32/322 [=>............................] - ETA: 0s - loss: -0.8999 - cosine_proximity: -0.8999WARNING:tensorflow:This model was compiled with a Keras optimizer (<tensorflow.python.keras.optimizers.SGD object at 0x7fcf80079438>) but is being saved in TensorFlow format with `save_weights`. The model's weights will be saved, but unlike with TensorFlow optimizers in the TensorFlow format the optimizer's state will not be saved.\n\nConsider using a TensorFlow optimizer from `tf.train`.\n322/322 [==============================] - 0s 94us/step - loss: -0.8959 - cosine_proximity: -0.8959\nEpoch 38/50\n 32/322 [=>............................] - ETA: 0s - loss: -0.9055 - cosine_proximity: -0.9055WARNING:tensorflow:This model was compiled with a Keras optimizer (<tensorflow.python.keras.optimizers.SGD object at 0x7fcf80079438>) but is being saved in TensorFlow format with `save_weights`. The model's weights will be saved, but unlike with TensorFlow optimizers in the TensorFlow format the optimizer's state will not be saved.\n\nConsider using a TensorFlow optimizer from `tf.train`.\n322/322 [==============================] - 0s 105us/step - loss: -0.9014 - cosine_proximity: -0.9014\nEpoch 39/50\n 32/322 [=>............................] - ETA: 0s - loss: -0.9144 - cosine_proximity: -0.9144WARNING:tensorflow:This model was compiled with a Keras optimizer (<tensorflow.python.keras.optimizers.SGD object at 0x7fcf80079438>) but is being saved in TensorFlow format with `save_weights`. The model's weights will be saved, but unlike with TensorFlow optimizers in the TensorFlow format the optimizer's state will not be saved.\n\nConsider using a TensorFlow optimizer from `tf.train`.\n322/322 [==============================] - 0s 97us/step - loss: -0.9066 - cosine_proximity: -0.9066\nEpoch 40/50\n 32/322 [=>............................] - ETA: 0s - loss: -0.9126 - cosine_proximity: -0.9126WARNING:tensorflow:This model was compiled with a Keras optimizer (<tensorflow.python.keras.optimizers.SGD object at 0x7fcf80079438>) but is being saved in TensorFlow format with `save_weights`. The model's weights will be saved, but unlike with TensorFlow optimizers in the TensorFlow format the optimizer's state will not be saved.\n\nConsider using a TensorFlow optimizer from `tf.train`.\n322/322 [==============================] - 0s 103us/step - loss: -0.9113 - cosine_proximity: -0.9113\nEpoch 41/50\n 32/322 [=>............................] - ETA: 0s - loss: -0.9083 - cosine_proximity: -0.9083WARNING:tensorflow:This model was compiled with a Keras optimizer (<tensorflow.python.keras.optimizers.SGD object at 0x7fcf80079438>) but is being saved in TensorFlow format with `save_weights`. The model's weights will be saved, but unlike with TensorFlow optimizers in the TensorFlow format the optimizer's state will not be saved.\n\nConsider using a TensorFlow optimizer from `tf.train`.\n322/322 [==============================] - 0s 106us/step - loss: -0.9160 - cosine_proximity: -0.9160\nEpoch 42/50\n 32/322 [=>............................] - ETA: 0s - loss: -0.9137 - cosine_proximity: -0.9137WARNING:tensorflow:This model was compiled with a Keras optimizer (<tensorflow.python.keras.optimizers.SGD object at 0x7fcf80079438>) but is being saved in TensorFlow format with `save_weights`. The model's weights will be saved, but unlike with TensorFlow optimizers in the TensorFlow format the optimizer's state will not be saved.\n\nConsider using a TensorFlow optimizer from `tf.train`.\n322/322 [==============================] - 0s 104us/step - loss: -0.9201 - cosine_proximity: -0.9201\nEpoch 43/50\n 32/322 [=>............................] - ETA: 0s - loss: -0.9216 - cosine_proximity: -0.9216WARNING:tensorflow:This model was compiled with a Keras optimizer (<tensorflow.python.keras.optimizers.SGD object at 0x7fcf80079438>) but is being saved in TensorFlow format with `save_weights`. The model's weights will be saved, but unlike with TensorFlow optimizers in the TensorFlow format the optimizer's state will not be saved.\n\nConsider using a TensorFlow optimizer from `tf.train`.\n322/322 [==============================] - 0s 105us/step - loss: -0.9241 - cosine_proximity: -0.9241\nEpoch 44/50\n 32/322 [=>............................] - ETA: 0s - loss: -0.9357 - cosine_proximity: -0.9357WARNING:tensorflow:This model was compiled with a Keras optimizer (<tensorflow.python.keras.optimizers.SGD object at 0x7fcf80079438>) but is being saved in TensorFlow format with `save_weights`. The model's weights will be saved, but unlike with TensorFlow optimizers in the TensorFlow format the optimizer's state will not be saved.\n\nConsider using a TensorFlow optimizer from `tf.train`.\n322/322 [==============================] - 0s 109us/step - loss: -0.9277 - cosine_proximity: -0.9277\nEpoch 45/50\n 32/322 [=>............................] - ETA: 0s - loss: -0.9284 - cosine_proximity: -0.9284WARNING:tensorflow:This model was compiled with a Keras optimizer (<tensorflow.python.keras.optimizers.SGD object at 0x7fcf80079438>) but is being saved in TensorFlow format with `save_weights`. The model's weights will be saved, but unlike with TensorFlow optimizers in the TensorFlow format the optimizer's state will not be saved.\n\nConsider using a TensorFlow optimizer from `tf.train`.\n322/322 [==============================] - 0s 105us/step - loss: -0.9311 - cosine_proximity: -0.9311\nEpoch 46/50\n 32/322 [=>............................] - ETA: 0s - loss: -0.9291 - cosine_proximity: -0.9291WARNING:tensorflow:This model was compiled with a Keras optimizer (<tensorflow.python.keras.optimizers.SGD object at 0x7fcf80079438>) but is being saved in TensorFlow format with `save_weights`. The model's weights will be saved, but unlike with TensorFlow optimizers in the TensorFlow format the optimizer's state will not be saved.\n\nConsider using a TensorFlow optimizer from `tf.train`.\n322/322 [==============================] - 0s 153us/step - loss: -0.9342 - cosine_proximity: -0.9342\nEpoch 47/50\n 32/322 [=>............................] - ETA: 0s - loss: -0.9275 - cosine_proximity: -0.9275WARNING:tensorflow:This model was compiled with a Keras optimizer (<tensorflow.python.keras.optimizers.SGD object at 0x7fcf80079438>) but is being saved in TensorFlow format with `save_weights`. The model's weights will be saved, but unlike with TensorFlow optimizers in the TensorFlow format the optimizer's state will not be saved.\n\nConsider using a TensorFlow optimizer from `tf.train`.\n322/322 [==============================] - 0s 134us/step - loss: -0.9371 - cosine_proximity: -0.9371\nEpoch 48/50\n 32/322 [=>............................] - ETA: 0s - loss: -0.9331 - cosine_proximity: -0.9331WARNING:tensorflow:This model was compiled with a Keras optimizer (<tensorflow.python.keras.optimizers.SGD object at 0x7fcf80079438>) but is being saved in TensorFlow format with `save_weights`. The model's weights will be saved, but unlike with TensorFlow optimizers in the TensorFlow format the optimizer's state will not be saved.\n\nConsider using a TensorFlow optimizer from `tf.train`.\n322/322 [==============================] - 0s 94us/step - loss: -0.9398 - cosine_proximity: -0.9398\nEpoch 49/50\n 32/322 [=>............................] - ETA: 0s - loss: -0.9394 - cosine_proximity: -0.9394WARNING:tensorflow:This model was compiled with a Keras optimizer (<tensorflow.python.keras.optimizers.SGD object at 0x7fcf80079438>) but is being saved in TensorFlow format with `save_weights`. The model's weights will be saved, but unlike with TensorFlow optimizers in the TensorFlow format the optimizer's state will not be saved.\n\nConsider using a TensorFlow optimizer from `tf.train`.\n322/322 [==============================] - 0s 105us/step - loss: -0.9423 - cosine_proximity: -0.9423\nEpoch 50/50\n 32/322 [=>............................] - ETA: 0s - loss: -0.9416 - cosine_proximity: -0.9416WARNING:tensorflow:This model was compiled with a Keras optimizer (<tensorflow.python.keras.optimizers.SGD object at 0x7fcf80079438>) but is being saved in TensorFlow format with `save_weights`. The model's weights will be saved, but unlike with TensorFlow optimizers in the TensorFlow format the optimizer's state will not be saved.\n\nConsider using a TensorFlow optimizer from `tf.train`.\n322/322 [==============================] - 0s 112us/step - loss: -0.9447 - cosine_proximity: -0.9447\n"
    },
    {
     "output_type": "execute_result",
     "data": {
      "text/plain": "<tensorflow.python.keras.callbacks.History at 0x7fcfa46a2748>"
     },
     "metadata": {},
     "execution_count": 106
    }
   ],
   "source": [
    "# Train model\n",
    " model.fit(X_train, y_train, callbacks=[cp_callback], epochs=50)\n",
    "#model.fit(X_train, y_train, epochs=20)"
   ]
  },
  {
   "cell_type": "code",
   "execution_count": 56,
   "metadata": {
    "tags": []
   },
   "outputs": [
    {
     "output_type": "stream",
     "name": "stdout",
     "text": "81/81 [==============================] - 0s 2ms/step\nAccuracy on test data: 1.0% \n Error on test data: 0.0\n"
    },
    {
     "output_type": "execute_result",
     "data": {
      "text/plain": "array([[0.10455891, 0.29369104, 0.08328355, 0.09000523, 0.18341474,\n        0.08344128, 0.11073275, 0.05087246],\n       [0.10185516, 0.14293091, 0.11493094, 0.1250131 , 0.15363102,\n        0.17495827, 0.09761094, 0.08906976],\n       [0.09723119, 0.14584431, 0.10361267, 0.12970771, 0.15722628,\n        0.187004  , 0.09385962, 0.08551424],\n       [0.22772565, 0.14608291, 0.08263063, 0.09691924, 0.11839603,\n        0.10907465, 0.1449955 , 0.07417544],\n       [0.22880669, 0.15263751, 0.08907725, 0.09064167, 0.1267052 ,\n        0.10637036, 0.13904224, 0.06671909],\n       [0.11290651, 0.2823962 , 0.08944061, 0.0918517 , 0.17102017,\n        0.08813198, 0.11073631, 0.05351654],\n       [0.09831645, 0.11207079, 0.2575367 , 0.1157933 , 0.10379592,\n        0.0849204 , 0.14875942, 0.07880698],\n       [0.08585478, 0.12283859, 0.10187361, 0.13289754, 0.07523537,\n        0.08055551, 0.14015415, 0.26059043],\n       [0.13149361, 0.09492166, 0.10106439, 0.0720276 , 0.06508715,\n        0.07241431, 0.36094275, 0.10204846],\n       [0.13304567, 0.09357516, 0.10240873, 0.07020151, 0.06628602,\n        0.07208159, 0.36125726, 0.10114408],\n       [0.08677439, 0.12102222, 0.09742453, 0.13388033, 0.07142465,\n        0.08052413, 0.14073445, 0.2682152 ],\n       [0.10356342, 0.29616883, 0.0800675 , 0.08926305, 0.18282652,\n        0.08648682, 0.11116208, 0.05046181],\n       [0.09851227, 0.14709975, 0.10939186, 0.12886357, 0.15280415,\n        0.18340588, 0.09501674, 0.08490571],\n       [0.08322047, 0.12230263, 0.10082605, 0.12980804, 0.07430413,\n        0.07901616, 0.14149463, 0.26902786],\n       [0.07390568, 0.15277794, 0.07783192, 0.23830433, 0.1331648 ,\n        0.11638966, 0.08645592, 0.12116974],\n       [0.09049867, 0.15549277, 0.10435443, 0.13360536, 0.16289864,\n        0.18801244, 0.08640111, 0.07873656],\n       [0.07613545, 0.14886667, 0.08095478, 0.24039711, 0.12940538,\n        0.11121797, 0.09130383, 0.12171882],\n       [0.08655064, 0.22511804, 0.08110593, 0.08849255, 0.31645098,\n        0.08301464, 0.08077358, 0.03849371],\n       [0.22733824, 0.14592972, 0.08177202, 0.09501093, 0.11536095,\n        0.10545504, 0.15787034, 0.0712627 ],\n       [0.08143939, 0.1508639 , 0.07892846, 0.23556703, 0.13576864,\n        0.11599077, 0.08471869, 0.1167231 ],\n       [0.10950135, 0.27506667, 0.0864408 , 0.09594359, 0.17492773,\n        0.09008911, 0.1079758 , 0.06005492],\n       [0.0839206 , 0.12418374, 0.09680904, 0.13671173, 0.07283555,\n        0.0804402 , 0.1343252 , 0.27077392],\n       [0.08383951, 0.11958612, 0.09641309, 0.13363354, 0.07341824,\n        0.08184019, 0.14135952, 0.2699098 ],\n       [0.08692279, 0.21452174, 0.08521228, 0.08600211, 0.3281266 ,\n        0.08495238, 0.07671316, 0.03754896],\n       [0.09387087, 0.14887294, 0.11041442, 0.13409065, 0.16057287,\n        0.17863016, 0.08858044, 0.08496767],\n       [0.09024397, 0.12231677, 0.09793971, 0.13178594, 0.07292838,\n        0.08105644, 0.13946036, 0.26426843],\n       [0.10508184, 0.28654346, 0.08722201, 0.09597983, 0.17789003,\n        0.08634859, 0.10420848, 0.05672568],\n       [0.08926014, 0.21462804, 0.08185913, 0.08719119, 0.32883272,\n        0.08299279, 0.07712439, 0.03811163],\n       [0.07460401, 0.1551852 , 0.0774098 , 0.24058378, 0.1403625 ,\n        0.11011566, 0.08902468, 0.11271436],\n       [0.23011883, 0.16187237, 0.08338384, 0.08867881, 0.12747523,\n        0.09692465, 0.14802612, 0.06352022],\n       [0.10224855, 0.11223027, 0.2596463 , 0.1118288 , 0.10433305,\n        0.08448309, 0.14742512, 0.0778049 ],\n       [0.09520838, 0.28691903, 0.08896567, 0.09888589, 0.18273017,\n        0.08627938, 0.10642953, 0.05458194],\n       [0.22616163, 0.15819168, 0.08265951, 0.08788113, 0.12090604,\n        0.10584667, 0.15225862, 0.06609473],\n       [0.10154293, 0.11368886, 0.2545896 , 0.11740182, 0.10202469,\n        0.08612609, 0.14362285, 0.08100316],\n       [0.08653679, 0.22174579, 0.08142171, 0.08910687, 0.31912243,\n        0.08477214, 0.0783214 , 0.03897293],\n       [0.08409725, 0.12489894, 0.09920083, 0.1316187 , 0.07356074,\n        0.08005373, 0.13615084, 0.27041903],\n       [0.10056218, 0.28452167, 0.0860436 , 0.09356518, 0.18565972,\n        0.08985288, 0.10793275, 0.05186199],\n       [0.13274753, 0.09280276, 0.10391094, 0.07146257, 0.06523716,\n        0.07114889, 0.35883686, 0.10385334],\n       [0.10106662, 0.28312036, 0.08488515, 0.09956095, 0.18181022,\n        0.08657616, 0.10550665, 0.05747388],\n       [0.1300246 , 0.0930207 , 0.10465076, 0.0755016 , 0.06605195,\n        0.07596701, 0.3492665 , 0.10551687],\n       [0.09542054, 0.15160304, 0.10625249, 0.13839483, 0.15353611,\n        0.18607867, 0.08556908, 0.08314518],\n       [0.08688649, 0.12504458, 0.09774918, 0.13001758, 0.07306835,\n        0.07907451, 0.13975543, 0.26840386],\n       [0.09946112, 0.11451135, 0.24886192, 0.12112214, 0.1048138 ,\n        0.08808227, 0.1407302 , 0.08241711],\n       [0.10066003, 0.10891178, 0.26154536, 0.11644845, 0.10187624,\n        0.08561274, 0.144835  , 0.08011033],\n       [0.10383106, 0.11541881, 0.2535542 , 0.11407498, 0.10350256,\n        0.08551694, 0.14359167, 0.08050974],\n       [0.13009308, 0.09520681, 0.10240848, 0.07010328, 0.06641247,\n        0.07203588, 0.3638982 , 0.09984177],\n       [0.22696519, 0.15542538, 0.08353665, 0.08921479, 0.11976997,\n        0.10255188, 0.1568982 , 0.06563796],\n       [0.08533971, 0.1246429 , 0.09494641, 0.1361457 , 0.07311071,\n        0.0822155 , 0.13912822, 0.26447085],\n       [0.07586694, 0.15317425, 0.07657228, 0.24863622, 0.13512419,\n        0.11012157, 0.08564619, 0.11485837],\n       [0.10056391, 0.11265632, 0.25459427, 0.11508436, 0.10714462,\n        0.08556747, 0.14563946, 0.07874965],\n       [0.10204797, 0.11036103, 0.26267898, 0.1157026 , 0.10180578,\n        0.0852863 , 0.14167576, 0.0804415 ],\n       [0.2275356 , 0.15013374, 0.08496466, 0.09339123, 0.12304033,\n        0.10842139, 0.1434199 , 0.06909311],\n       [0.102034  , 0.11068884, 0.25960046, 0.115355  , 0.10419602,\n        0.08451275, 0.14409882, 0.07951412],\n       [0.23742095, 0.14498499, 0.08402736, 0.08798958, 0.10820508,\n        0.10589695, 0.16187757, 0.06959755],\n       [0.08691654, 0.13138933, 0.09591042, 0.13236079, 0.07358111,\n        0.07915226, 0.12845775, 0.27223185],\n       [0.13000587, 0.09294237, 0.10392137, 0.07343566, 0.06576462,\n        0.07278599, 0.3531947 , 0.10794941],\n       [0.09504344, 0.28953242, 0.08834764, 0.09671817, 0.17774053,\n        0.09114176, 0.10659702, 0.05487901],\n       [0.0966512 , 0.30518526, 0.08097988, 0.09447718, 0.18656644,\n        0.07767937, 0.10648704, 0.05197361],\n       [0.2335677 , 0.15326577, 0.08311263, 0.08507308, 0.12218601,\n        0.10630378, 0.15414913, 0.06234189],\n       [0.09315509, 0.15280129, 0.10437966, 0.13271707, 0.16137376,\n        0.18721372, 0.08693479, 0.08142452],\n       [0.09886281, 0.2954689 , 0.08340801, 0.09202617, 0.18415461,\n        0.08765398, 0.10532067, 0.05310475],\n       [0.07833499, 0.15152869, 0.08134227, 0.23548517, 0.13011843,\n        0.1126686 , 0.09024341, 0.12027846],\n       [0.23255442, 0.14976567, 0.08436965, 0.09115137, 0.11410729,\n        0.10200276, 0.15612815, 0.06992077],\n       [0.07904039, 0.15572192, 0.07989925, 0.2318897 , 0.13536702,\n        0.11097243, 0.0890035 , 0.1181057 ],\n       [0.13165237, 0.09240192, 0.10246295, 0.07115651, 0.06504153,\n        0.07158949, 0.36172086, 0.10397431],\n       [0.07483003, 0.15390195, 0.07795219, 0.23446442, 0.132592  ,\n        0.11785051, 0.0859859 , 0.12242296],\n       [0.08127809, 0.12601928, 0.09531355, 0.13742085, 0.07648963,\n        0.08330857, 0.13437244, 0.26579753],\n       [0.0962254 , 0.11858263, 0.23923181, 0.12457657, 0.10587124,\n        0.09441637, 0.14199267, 0.07910331],\n       [0.23899639, 0.14741243, 0.08500829, 0.08770759, 0.12069687,\n        0.1048407 , 0.15036994, 0.06496783],\n       [0.09241603, 0.15755016, 0.0988619 , 0.13446607, 0.1619329 ,\n        0.18685639, 0.08261178, 0.08530477],\n       [0.09073412, 0.21818246, 0.08653652, 0.08908162, 0.31001097,\n        0.08376832, 0.08271036, 0.03897565],\n       [0.1336591 , 0.09274679, 0.10468143, 0.07126246, 0.06527979,\n        0.07137088, 0.35850996, 0.10248965],\n       [0.1031809 , 0.2907381 , 0.08305804, 0.09311216, 0.18030627,\n        0.08726716, 0.10811173, 0.0542256 ],\n       [0.08051384, 0.1494504 , 0.08194639, 0.23579253, 0.1261612 ,\n        0.11387306, 0.08858252, 0.12368005],\n       [0.10359662, 0.10930432, 0.26288313, 0.11489407, 0.10288842,\n        0.08430701, 0.14563553, 0.07649089],\n       [0.23145008, 0.15168172, 0.08304194, 0.09534551, 0.11165465,\n        0.10515801, 0.14934859, 0.07231945],\n       [0.22495577, 0.15557736, 0.08482333, 0.0909695 , 0.12487745,\n        0.10423823, 0.14824712, 0.06631118],\n       [0.10152054, 0.29133773, 0.08638055, 0.09384182, 0.17856549,\n        0.08613785, 0.10832053, 0.05389555],\n       [0.08759443, 0.2196909 , 0.08349086, 0.0849867 , 0.3252118 ,\n        0.08323375, 0.07835532, 0.03743625],\n       [0.13596307, 0.0969184 , 0.10131638, 0.07137767, 0.06624638,\n        0.07264543, 0.35267997, 0.10285271],\n       [0.08406449, 0.12117061, 0.09924988, 0.13240342, 0.07294695,\n        0.07918475, 0.13751501, 0.27346486]], dtype=float32)"
     },
     "metadata": {},
     "execution_count": 56
    }
   ],
   "source": [
    "# Evaluate model\n",
    "pred_test= model.predict(X_test)\n",
    "scores2 = model.evaluate(X_test, y_test, verbose=True)\n",
    "print('Accuracy on test data: {}% \\n Error on test data: {}'.format(scores2[1], 1 - scores2[1]))  \n",
    "pred_test  "
   ]
  },
  {
   "cell_type": "code",
   "execution_count": 107,
   "metadata": {
    "tags": []
   },
   "outputs": [
    {
     "output_type": "stream",
     "name": "stdout",
     "text": "Saved model ...\n"
    }
   ],
   "source": [
    "# save model\n",
    "# tf.saved_model.save(model,\"model/1\")\n",
    "\n",
    "# Save entire model to a HDF5 file\n",
    "model.save('model/h5/model_v2.h5')\n",
    "\n",
    "model.save('model/saved_model/model_v2.pb')\n",
    "print('Saved model ...')"
   ]
  },
  {
   "cell_type": "code",
   "execution_count": 58,
   "metadata": {
    "tags": []
   },
   "outputs": [
    {
     "output_type": "stream",
     "name": "stdout",
     "text": "dense_9_input\noutput_node_4/Softmax\n_________________________________________________________________\nLayer (type)                 Output Shape              Param #   \n=================================================================\ndense_9 (Dense)              (None, 32)                4128      \n_________________________________________________________________\ndropout_6 (Dropout)          (None, 32)                0         \n_________________________________________________________________\noutput_node (Dense)          (None, 8)                 264       \n=================================================================\nTotal params: 4,392\nTrainable params: 4,392\nNon-trainable params: 0\n_________________________________________________________________\nNone\n"
    }
   ],
   "source": [
    "print(model.input.op.name)\n",
    "print(model.output.op.name)\n",
    "print(model.summary())"
   ]
  },
  {
   "cell_type": "code",
   "execution_count": null,
   "metadata": {
    "tags": []
   },
   "outputs": [],
   "source": [
    "# Saving graph version 1 model\n",
    "with tf.Graph().as_default():\n",
    "  with tf.Session() as sess:\n",
    "        model = build_model()\n",
    "\n",
    "        model.compile(optimizer='RMSprop', \n",
    "              loss='categorical_crossentropy', \n",
    "              metrics=['accuracy'])\n",
    "        \"\"\"cp_callback = tf.keras.callbacks.ModelCheckpoint(\"model/ckps/weights.{epoch:02d}-v1.hdf5\", save_weights_only=True,verbose=0)\"\"\"\n",
    "        model.fit(X_train, y_train, epochs=20)\n",
    "\n",
    "        # Evaluate model\n",
    "        pred_test= model.predict(X_test)\n",
    "        scores2 = model.evaluate(X_test, y_test, verbose=True)\n",
    "        print('Accuracy on test data: {}% \\n Error on test data: {}'.format(scores2[1], 1 - scores2[1]))  \n",
    "        pred_test\n",
    "\n",
    "        # Initialize all variables\n",
    "        init = tf.global_variables_initializer()\n",
    "        sess.run(init)\n",
    "        saver = tf.train.Saver()\n",
    "        saver.save(sess,'model/graph/model_v1.ckpt')\n",
    "        tf.train.write_graph(sess.graph.as_graph_def(), 'model/graph/v1', 'model_v1_.pbtxt', as_text=True) "
   ]
  },
  {
   "cell_type": "code",
   "execution_count": 108,
   "metadata": {
    "tags": []
   },
   "outputs": [
    {
     "output_type": "stream",
     "name": "stdout",
     "text": "Epoch 1/50\n322/322 [==============================] - 0s 514us/step - loss: -0.3631 - cosine_proximity: -0.3631\nEpoch 2/50\n322/322 [==============================] - 0s 110us/step - loss: -0.3746 - cosine_proximity: -0.3746\nEpoch 3/50\n322/322 [==============================] - 0s 89us/step - loss: -0.3910 - cosine_proximity: -0.3910\nEpoch 4/50\n322/322 [==============================] - 0s 103us/step - loss: -0.4026 - cosine_proximity: -0.4026\nEpoch 5/50\n322/322 [==============================] - 0s 91us/step - loss: -0.4144 - cosine_proximity: -0.4144\nEpoch 6/50\n322/322 [==============================] - 0s 91us/step - loss: -0.4332 - cosine_proximity: -0.4332\nEpoch 7/50\n322/322 [==============================] - 0s 86us/step - loss: -0.4508 - cosine_proximity: -0.4508\nEpoch 8/50\n322/322 [==============================] - 0s 94us/step - loss: -0.4694 - cosine_proximity: -0.4694\nEpoch 9/50\n322/322 [==============================] - 0s 89us/step - loss: -0.4830 - cosine_proximity: -0.4830\nEpoch 10/50\n322/322 [==============================] - 0s 87us/step - loss: -0.5047 - cosine_proximity: -0.5047\nEpoch 11/50\n322/322 [==============================] - 0s 88us/step - loss: -0.5195 - cosine_proximity: -0.5195\nEpoch 12/50\n322/322 [==============================] - 0s 76us/step - loss: -0.5358 - cosine_proximity: -0.5358\nEpoch 13/50\n322/322 [==============================] - 0s 84us/step - loss: -0.5566 - cosine_proximity: -0.5566\nEpoch 14/50\n322/322 [==============================] - 0s 74us/step - loss: -0.5779 - cosine_proximity: -0.5779\nEpoch 15/50\n322/322 [==============================] - 0s 72us/step - loss: -0.5975 - cosine_proximity: -0.5975\nEpoch 16/50\n322/322 [==============================] - 0s 74us/step - loss: -0.6117 - cosine_proximity: -0.6117\nEpoch 17/50\n322/322 [==============================] - 0s 70us/step - loss: -0.6328 - cosine_proximity: -0.6328\nEpoch 18/50\n322/322 [==============================] - 0s 72us/step - loss: -0.6488 - cosine_proximity: -0.6488\nEpoch 19/50\n322/322 [==============================] - 0s 74us/step - loss: -0.6695 - cosine_proximity: -0.6695\nEpoch 20/50\n322/322 [==============================] - 0s 77us/step - loss: -0.6852 - cosine_proximity: -0.6852\nEpoch 21/50\n322/322 [==============================] - 0s 79us/step - loss: -0.7051 - cosine_proximity: -0.7051\nEpoch 22/50\n322/322 [==============================] - 0s 77us/step - loss: -0.7172 - cosine_proximity: -0.7172\nEpoch 23/50\n322/322 [==============================] - 0s 81us/step - loss: -0.7348 - cosine_proximity: -0.7348\nEpoch 24/50\n322/322 [==============================] - 0s 90us/step - loss: -0.7464 - cosine_proximity: -0.7464\nEpoch 25/50\n322/322 [==============================] - 0s 144us/step - loss: -0.7625 - cosine_proximity: -0.7625\nEpoch 26/50\n322/322 [==============================] - 0s 85us/step - loss: -0.7848 - cosine_proximity: -0.7848\nEpoch 27/50\n322/322 [==============================] - 0s 91us/step - loss: -0.7878 - cosine_proximity: -0.7878\nEpoch 28/50\n322/322 [==============================] - 0s 87us/step - loss: -0.8044 - cosine_proximity: -0.8044\nEpoch 29/50\n322/322 [==============================] - 0s 80us/step - loss: -0.8109 - cosine_proximity: -0.8109\nEpoch 30/50\n322/322 [==============================] - 0s 79us/step - loss: -0.8274 - cosine_proximity: -0.8274\nEpoch 31/50\n322/322 [==============================] - 0s 72us/step - loss: -0.8379 - cosine_proximity: -0.8379\nEpoch 32/50\n322/322 [==============================] - 0s 74us/step - loss: -0.8440 - cosine_proximity: -0.8440\nEpoch 33/50\n322/322 [==============================] - 0s 84us/step - loss: -0.8496 - cosine_proximity: -0.8496\nEpoch 34/50\n322/322 [==============================] - 0s 73us/step - loss: -0.8582 - cosine_proximity: -0.8582\nEpoch 35/50\n322/322 [==============================] - 0s 71us/step - loss: -0.8653 - cosine_proximity: -0.8653\nEpoch 36/50\n322/322 [==============================] - 0s 77us/step - loss: -0.8750 - cosine_proximity: -0.8750\nEpoch 37/50\n322/322 [==============================] - 0s 75us/step - loss: -0.8814 - cosine_proximity: -0.8814\nEpoch 38/50\n322/322 [==============================] - 0s 83us/step - loss: -0.8841 - cosine_proximity: -0.8841\nEpoch 39/50\n322/322 [==============================] - 0s 77us/step - loss: -0.8947 - cosine_proximity: -0.8947\nEpoch 40/50\n322/322 [==============================] - 0s 78us/step - loss: -0.9013 - cosine_proximity: -0.9013\nEpoch 41/50\n322/322 [==============================] - 0s 76us/step - loss: -0.9032 - cosine_proximity: -0.9032\nEpoch 42/50\n322/322 [==============================] - 0s 71us/step - loss: -0.9043 - cosine_proximity: -0.9043\nEpoch 43/50\n322/322 [==============================] - 0s 78us/step - loss: -0.9139 - cosine_proximity: -0.9139\nEpoch 44/50\n322/322 [==============================] - 0s 79us/step - loss: -0.9148 - cosine_proximity: -0.9148\nEpoch 45/50\n322/322 [==============================] - 0s 85us/step - loss: -0.9200 - cosine_proximity: -0.9200\nEpoch 46/50\n322/322 [==============================] - 0s 97us/step - loss: -0.9203 - cosine_proximity: -0.9203\nEpoch 47/50\n322/322 [==============================] - 0s 89us/step - loss: -0.9278 - cosine_proximity: -0.9278\nEpoch 48/50\n322/322 [==============================] - 0s 77us/step - loss: -0.9264 - cosine_proximity: -0.9264\nEpoch 49/50\n322/322 [==============================] - 0s 83us/step - loss: -0.9313 - cosine_proximity: -0.9313\nEpoch 50/50\n322/322 [==============================] - 0s 78us/step - loss: -0.9325 - cosine_proximity: -0.9325\n[SCORE1] Accuracy on test data: 1.0% \n Error on test data: 0.0\n"
    }
   ],
   "source": [
    "# Saving graph version 2 model\n",
    "with tf.Graph().as_default():\n",
    "  with tf.Session() as sess:\n",
    "        model = build_model()\n",
    "\n",
    "        model.fit(X_train, y_train, epochs=50)\n",
    "\n",
    "        # Evaluate model\n",
    "        pred_test_mog = model.predict(X_test)\n",
    "        pred_test = np.argmax(pred_test_mog, axis=1)\n",
    "        pred_test = le.transform(pred_test)\n",
    "        pred_test = lb.fit_transform(pred_test)\n",
    "\n",
    "        from sklearn.metrics import accuracy_score\n",
    "        scores1 = accuracy_score(y_test,pred_test)\n",
    "        print('[SCORE1] Accuracy on test data: {}% \\n Error on test data: {}'.format(scores1, 1 - scores1))\n",
    "\n",
    "        pred_test\n",
    "\n",
    "        # Initialize all variables\n",
    "        init = tf.global_variables_initializer()\n",
    "        sess.run(init)\n",
    "        saver = tf.train.Saver()\n",
    "        saver.save(sess,'model/graph/v2/model_v2.ckpt')\n",
    "        tf.train.write_graph(sess.graph.as_graph_def(), 'model/graph/v2', 'model_v2_.pbtxt', as_text=True) "
   ]
  },
  {
   "cell_type": "code",
   "execution_count": 109,
   "metadata": {
    "tags": []
   },
   "outputs": [
    {
     "output_type": "error",
     "ename": "ValueError",
     "evalue": "Error when checking target: expected output_node to have shape (6,) but got array with shape (8,)",
     "traceback": [
      "\u001b[0;31m---------------------------------------------------------------------------\u001b[0m",
      "\u001b[0;31mValueError\u001b[0m                                Traceback (most recent call last)",
      "\u001b[0;32m<ipython-input-109-edbd8a91a7e7>\u001b[0m in \u001b[0;36m<module>\u001b[0;34m\u001b[0m\n\u001b[1;32m     26\u001b[0m         metrics=['accuracy'])\n\u001b[1;32m     27\u001b[0m \u001b[0;34m\"\"\"cp_callback = tf.keras.callbacks.ModelCheckpoint(\"model/ckps/weights.{epoch:02d}-v1.hdf5\", save_weights_only=True,verbose=0)\"\"\"\u001b[0m\u001b[0;34m\u001b[0m\u001b[0;34m\u001b[0m\u001b[0m\n\u001b[0;32m---> 28\u001b[0;31m \u001b[0mmodel\u001b[0m\u001b[0;34m.\u001b[0m\u001b[0mfit\u001b[0m\u001b[0;34m(\u001b[0m\u001b[0mX_train\u001b[0m\u001b[0;34m,\u001b[0m \u001b[0my_train\u001b[0m\u001b[0;34m,\u001b[0m \u001b[0mepochs\u001b[0m\u001b[0;34m=\u001b[0m\u001b[0;36m5\u001b[0m\u001b[0;34m)\u001b[0m\u001b[0;34m\u001b[0m\u001b[0;34m\u001b[0m\u001b[0m\n\u001b[0m\u001b[1;32m     29\u001b[0m \u001b[0;34m\u001b[0m\u001b[0m\n\u001b[1;32m     30\u001b[0m \u001b[0;31m# Evaluate model\u001b[0m\u001b[0;34m\u001b[0m\u001b[0;34m\u001b[0m\u001b[0;34m\u001b[0m\u001b[0m\n",
      "\u001b[0;32m~/.local/share/virtualenvs/faceNetEmbeddingsClassifier-Sk3WIveA/lib/python3.6/site-packages/tensorflow/python/keras/engine/training.py\u001b[0m in \u001b[0;36mfit\u001b[0;34m(self, x, y, batch_size, epochs, verbose, callbacks, validation_split, validation_data, shuffle, class_weight, sample_weight, initial_epoch, steps_per_epoch, validation_steps, max_queue_size, workers, use_multiprocessing, **kwargs)\u001b[0m\n\u001b[1;32m   1534\u001b[0m         \u001b[0msteps_name\u001b[0m\u001b[0;34m=\u001b[0m\u001b[0;34m'steps_per_epoch'\u001b[0m\u001b[0;34m,\u001b[0m\u001b[0;34m\u001b[0m\u001b[0;34m\u001b[0m\u001b[0m\n\u001b[1;32m   1535\u001b[0m         \u001b[0msteps\u001b[0m\u001b[0;34m=\u001b[0m\u001b[0msteps_per_epoch\u001b[0m\u001b[0;34m,\u001b[0m\u001b[0;34m\u001b[0m\u001b[0;34m\u001b[0m\u001b[0m\n\u001b[0;32m-> 1536\u001b[0;31m         validation_split=validation_split)\n\u001b[0m\u001b[1;32m   1537\u001b[0m \u001b[0;34m\u001b[0m\u001b[0m\n\u001b[1;32m   1538\u001b[0m     \u001b[0;31m# Prepare validation data.\u001b[0m\u001b[0;34m\u001b[0m\u001b[0;34m\u001b[0m\u001b[0;34m\u001b[0m\u001b[0m\n",
      "\u001b[0;32m~/.local/share/virtualenvs/faceNetEmbeddingsClassifier-Sk3WIveA/lib/python3.6/site-packages/tensorflow/python/keras/engine/training.py\u001b[0m in \u001b[0;36m_standardize_user_data\u001b[0;34m(self, x, y, sample_weight, class_weight, batch_size, check_steps, steps_name, steps, validation_split)\u001b[0m\n\u001b[1;32m    990\u001b[0m         \u001b[0mx\u001b[0m\u001b[0;34m,\u001b[0m \u001b[0my\u001b[0m\u001b[0;34m,\u001b[0m \u001b[0msample_weight\u001b[0m \u001b[0;34m=\u001b[0m \u001b[0mnext_element\u001b[0m\u001b[0;34m\u001b[0m\u001b[0;34m\u001b[0m\u001b[0m\n\u001b[1;32m    991\u001b[0m     x, y, sample_weights = self._standardize_weights(x, y, sample_weight,\n\u001b[0;32m--> 992\u001b[0;31m                                                      class_weight, batch_size)\n\u001b[0m\u001b[1;32m    993\u001b[0m     \u001b[0;32mreturn\u001b[0m \u001b[0mx\u001b[0m\u001b[0;34m,\u001b[0m \u001b[0my\u001b[0m\u001b[0;34m,\u001b[0m \u001b[0msample_weights\u001b[0m\u001b[0;34m\u001b[0m\u001b[0;34m\u001b[0m\u001b[0m\n\u001b[1;32m    994\u001b[0m \u001b[0;34m\u001b[0m\u001b[0m\n",
      "\u001b[0;32m~/.local/share/virtualenvs/faceNetEmbeddingsClassifier-Sk3WIveA/lib/python3.6/site-packages/tensorflow/python/keras/engine/training.py\u001b[0m in \u001b[0;36m_standardize_weights\u001b[0;34m(self, x, y, sample_weight, class_weight, batch_size)\u001b[0m\n\u001b[1;32m   1152\u001b[0m           \u001b[0mfeed_output_shapes\u001b[0m\u001b[0;34m,\u001b[0m\u001b[0;34m\u001b[0m\u001b[0;34m\u001b[0m\u001b[0m\n\u001b[1;32m   1153\u001b[0m           \u001b[0mcheck_batch_axis\u001b[0m\u001b[0;34m=\u001b[0m\u001b[0;32mFalse\u001b[0m\u001b[0;34m,\u001b[0m  \u001b[0;31m# Don't enforce the batch size.\u001b[0m\u001b[0;34m\u001b[0m\u001b[0;34m\u001b[0m\u001b[0m\n\u001b[0;32m-> 1154\u001b[0;31m           exception_prefix='target')\n\u001b[0m\u001b[1;32m   1155\u001b[0m \u001b[0;34m\u001b[0m\u001b[0m\n\u001b[1;32m   1156\u001b[0m       \u001b[0;31m# Generate sample-wise weight values given the `sample_weight` and\u001b[0m\u001b[0;34m\u001b[0m\u001b[0;34m\u001b[0m\u001b[0;34m\u001b[0m\u001b[0m\n",
      "\u001b[0;32m~/.local/share/virtualenvs/faceNetEmbeddingsClassifier-Sk3WIveA/lib/python3.6/site-packages/tensorflow/python/keras/engine/training_utils.py\u001b[0m in \u001b[0;36mstandardize_input_data\u001b[0;34m(data, names, shapes, check_batch_axis, exception_prefix)\u001b[0m\n\u001b[1;32m    330\u001b[0m                 \u001b[0;34m'Error when checking '\u001b[0m \u001b[0;34m+\u001b[0m \u001b[0mexception_prefix\u001b[0m \u001b[0;34m+\u001b[0m \u001b[0;34m': expected '\u001b[0m \u001b[0;34m+\u001b[0m\u001b[0;34m\u001b[0m\u001b[0;34m\u001b[0m\u001b[0m\n\u001b[1;32m    331\u001b[0m                 \u001b[0mnames\u001b[0m\u001b[0;34m[\u001b[0m\u001b[0mi\u001b[0m\u001b[0;34m]\u001b[0m \u001b[0;34m+\u001b[0m \u001b[0;34m' to have shape '\u001b[0m \u001b[0;34m+\u001b[0m \u001b[0mstr\u001b[0m\u001b[0;34m(\u001b[0m\u001b[0mshape\u001b[0m\u001b[0;34m)\u001b[0m \u001b[0;34m+\u001b[0m\u001b[0;34m\u001b[0m\u001b[0;34m\u001b[0m\u001b[0m\n\u001b[0;32m--> 332\u001b[0;31m                 ' but got array with shape ' + str(data_shape))\n\u001b[0m\u001b[1;32m    333\u001b[0m   \u001b[0;32mreturn\u001b[0m \u001b[0mdata\u001b[0m\u001b[0;34m\u001b[0m\u001b[0;34m\u001b[0m\u001b[0m\n\u001b[1;32m    334\u001b[0m \u001b[0;34m\u001b[0m\u001b[0m\n",
      "\u001b[0;31mValueError\u001b[0m: Error when checking target: expected output_node to have shape (6,) but got array with shape (8,)"
     ]
    }
   ],
   "source": [
    "# Graph with version 1\n",
    "from tensorflow.python.framework import graph_io\n",
    "\n",
    "tf.keras.backend.clear_session()\n",
    "\n",
    "def freeze_graph(graph, session, output, save_pb_dir='.', save_pb_name='model/graph/saved/frozen_model.pb', save_pb_as_text=False):\n",
    "    with graph.as_default():\n",
    "        graphdef_inf = tf.graph_util.remove_training_nodes(graph.as_graph_def())\n",
    "        graphdef_frozen = tf.graph_util.convert_variables_to_constants(session, graphdef_inf, output)\n",
    "        graph_io.write_graph(graphdef_frozen, save_pb_dir, save_pb_name, as_text=save_pb_as_text)\n",
    "        return graphdef_frozen\n",
    "\n",
    "tf.keras.backend.set_learning_phase(0) \n",
    "\n",
    "model = Sequential()\n",
    "model.add(Dense(256, activation='relu', input_dim=(X_train.shape[1])))\n",
    "model.add(Dropout(0.2))\n",
    "model.add(Dense(128, activation='relu'))\n",
    "model.add(Dropout(0.2))\n",
    "model.add(Dense(64, activation='relu'))\n",
    "model.add(Dropout(0.2))\n",
    "model.add(Dense(6, activation='softmax', name=\"output_node\"))\n",
    "\n",
    "model.compile(optimizer='RMSprop', \n",
    "        loss='categorical_crossentropy', \n",
    "        metrics=['accuracy'])\n",
    "\"\"\"cp_callback = tf.keras.callbacks.ModelCheckpoint(\"model/ckps/weights.{epoch:02d}-v1.hdf5\", save_weights_only=True,verbose=0)\"\"\"\n",
    "model.fit(X_train, y_train, epochs=5)\n",
    "\n",
    "# Evaluate model\n",
    "pred_test= model.predict(X_test)\n",
    "scores2 = model.evaluate(X_test, y_test, verbose=True)\n",
    "print('Accuracy on test data: {}% \\n Error on test data: {}'.format(scores2[1], 1 - scores2[1]))  \n",
    "pred_test\n",
    "\n",
    "session = tf.keras.backend.get_session()\n",
    "\n",
    "input_names = [t.op.name for t in model.inputs]\n",
    "output_names = [t.op.name for t in model.outputs]\n",
    "\n",
    "# Prints input and output nodes names, take notes of them.\n",
    "print(input_names, output_names)\n",
    "\n",
    "frozen_graph = freeze_graph(session.graph, session, [out.op.name for out in model.outputs])"
   ]
  },
  {
   "cell_type": "code",
   "execution_count": 112,
   "metadata": {
    "tags": []
   },
   "outputs": [
    {
     "output_type": "stream",
     "name": "stdout",
     "text": "Epoch 1/50\n322/322 [==============================] - 0s 405us/step - loss: -0.3509 - cosine_proximity: -0.3509\nEpoch 2/50\n322/322 [==============================] - 0s 68us/step - loss: -0.3635 - cosine_proximity: -0.3635\nEpoch 3/50\n322/322 [==============================] - 0s 90us/step - loss: -0.3768 - cosine_proximity: -0.3768\nEpoch 4/50\n322/322 [==============================] - 0s 81us/step - loss: -0.3908 - cosine_proximity: -0.3908\nEpoch 5/50\n322/322 [==============================] - 0s 126us/step - loss: -0.4052 - cosine_proximity: -0.4052\nEpoch 6/50\n322/322 [==============================] - 0s 97us/step - loss: -0.4200 - cosine_proximity: -0.4200\nEpoch 7/50\n322/322 [==============================] - 0s 81us/step - loss: -0.4351 - cosine_proximity: -0.4351\nEpoch 8/50\n322/322 [==============================] - 0s 85us/step - loss: -0.4507 - cosine_proximity: -0.4507\nEpoch 9/50\n322/322 [==============================] - 0s 77us/step - loss: -0.4678 - cosine_proximity: -0.4678\nEpoch 10/50\n322/322 [==============================] - 0s 86us/step - loss: -0.4856 - cosine_proximity: -0.4856\nEpoch 11/50\n322/322 [==============================] - 0s 76us/step - loss: -0.5037 - cosine_proximity: -0.5037\nEpoch 12/50\n322/322 [==============================] - 0s 82us/step - loss: -0.5215 - cosine_proximity: -0.5215\nEpoch 13/50\n322/322 [==============================] - 0s 73us/step - loss: -0.5401 - cosine_proximity: -0.5401\nEpoch 14/50\n322/322 [==============================] - 0s 90us/step - loss: -0.5591 - cosine_proximity: -0.5591\nEpoch 15/50\n322/322 [==============================] - 0s 80us/step - loss: -0.5782 - cosine_proximity: -0.5782\nEpoch 16/50\n322/322 [==============================] - 0s 71us/step - loss: -0.5975 - cosine_proximity: -0.5975\nEpoch 17/50\n322/322 [==============================] - 0s 71us/step - loss: -0.6162 - cosine_proximity: -0.6162\nEpoch 18/50\n322/322 [==============================] - 0s 73us/step - loss: -0.6353 - cosine_proximity: -0.6353\nEpoch 19/50\n322/322 [==============================] - 0s 61us/step - loss: -0.6537 - cosine_proximity: -0.6537\nEpoch 20/50\n322/322 [==============================] - 0s 68us/step - loss: -0.6724 - cosine_proximity: -0.6724\nEpoch 21/50\n322/322 [==============================] - 0s 75us/step - loss: -0.6910 - cosine_proximity: -0.6910\nEpoch 22/50\n322/322 [==============================] - 0s 77us/step - loss: -0.7086 - cosine_proximity: -0.7086\nEpoch 23/50\n322/322 [==============================] - 0s 64us/step - loss: -0.7262 - cosine_proximity: -0.7262\nEpoch 24/50\n322/322 [==============================] - 0s 62us/step - loss: -0.7426 - cosine_proximity: -0.7426\nEpoch 25/50\n322/322 [==============================] - 0s 67us/step - loss: -0.7582 - cosine_proximity: -0.7582\nEpoch 26/50\n322/322 [==============================] - 0s 73us/step - loss: -0.7735 - cosine_proximity: -0.7735\nEpoch 27/50\n322/322 [==============================] - 0s 71us/step - loss: -0.7877 - cosine_proximity: -0.7877\nEpoch 28/50\n322/322 [==============================] - 0s 67us/step - loss: -0.8013 - cosine_proximity: -0.8013\nEpoch 29/50\n322/322 [==============================] - 0s 73us/step - loss: -0.8143 - cosine_proximity: -0.8143\nEpoch 30/50\n322/322 [==============================] - 0s 65us/step - loss: -0.8260 - cosine_proximity: -0.8260\nEpoch 31/50\n322/322 [==============================] - 0s 71us/step - loss: -0.8373 - cosine_proximity: -0.8373\nEpoch 32/50\n322/322 [==============================] - 0s 77us/step - loss: -0.8474 - cosine_proximity: -0.8474\nEpoch 33/50\n322/322 [==============================] - 0s 72us/step - loss: -0.8570 - cosine_proximity: -0.8570\nEpoch 34/50\n322/322 [==============================] - 0s 70us/step - loss: -0.8657 - cosine_proximity: -0.8657\nEpoch 35/50\n322/322 [==============================] - 0s 72us/step - loss: -0.8738 - cosine_proximity: -0.8738\nEpoch 36/50\n322/322 [==============================] - 0s 65us/step - loss: -0.8813 - cosine_proximity: -0.8813\nEpoch 37/50\n322/322 [==============================] - 0s 73us/step - loss: -0.8882 - cosine_proximity: -0.8882\nEpoch 38/50\n322/322 [==============================] - 0s 73us/step - loss: -0.8947 - cosine_proximity: -0.8947\nEpoch 39/50\n322/322 [==============================] - 0s 73us/step - loss: -0.9006 - cosine_proximity: -0.9006\nEpoch 40/50\n322/322 [==============================] - 0s 79us/step - loss: -0.9059 - cosine_proximity: -0.9059\nEpoch 41/50\n322/322 [==============================] - 0s 80us/step - loss: -0.9110 - cosine_proximity: -0.9110\nEpoch 42/50\n322/322 [==============================] - 0s 77us/step - loss: -0.9155 - cosine_proximity: -0.9155\nEpoch 43/50\n322/322 [==============================] - 0s 75us/step - loss: -0.9197 - cosine_proximity: -0.9197\nEpoch 44/50\n322/322 [==============================] - 0s 77us/step - loss: -0.9236 - cosine_proximity: -0.9236\nEpoch 45/50\n322/322 [==============================] - 0s 75us/step - loss: -0.9272 - cosine_proximity: -0.9272\nEpoch 46/50\n322/322 [==============================] - 0s 85us/step - loss: -0.9306 - cosine_proximity: -0.9306\nEpoch 47/50\n322/322 [==============================] - 0s 85us/step - loss: -0.9337 - cosine_proximity: -0.9337\nEpoch 48/50\n322/322 [==============================] - 0s 89us/step - loss: -0.9367 - cosine_proximity: -0.9367\nEpoch 49/50\n322/322 [==============================] - 0s 93us/step - loss: -0.9394 - cosine_proximity: -0.9394\nEpoch 50/50\n322/322 [==============================] - 0s 116us/step - loss: -0.9420 - cosine_proximity: -0.9420\n[SCORE1] Accuracy on test data: 1.0% \n Error on test data: 0.0\n['dense_input'] ['output_node/Softmax']\nINFO:tensorflow:Froze 8 variables.\nINFO:tensorflow:Converted 8 variables to const ops.\n"
    }
   ],
   "source": [
    "# Graph with version 2\n",
    "from tensorflow.python.framework import graph_io\n",
    "import tensorflow as tf\n",
    "\n",
    "tf.keras.backend.clear_session()\n",
    "\n",
    "def freeze_graph(graph, session, output, save_pb_dir='.', save_pb_name='model/graph/v2/saved/frozen_model.pb', save_pb_as_text=False):\n",
    "    with graph.as_default():\n",
    "        graphdef_inf = tf.graph_util.remove_training_nodes(graph.as_graph_def())\n",
    "        graphdef_frozen = tf.graph_util.convert_variables_to_constants(session, graphdef_inf, output)\n",
    "        graph_io.write_graph(graphdef_frozen, save_pb_dir, save_pb_name, as_text=save_pb_as_text)\n",
    "        return graphdef_frozen\n",
    "\n",
    "tf.keras.backend.set_learning_phase(0) \n",
    "model = tf.keras.Sequential()\n",
    "model.add(tf.keras.layers.Dense(units=512, activation='tanh', input_dim=(X_train.shape[1])))\n",
    "model.add(tf.keras.layers.Dropout(rate=0.2))\n",
    "model.add(tf.keras.layers.Dense(units=256, activation='tanh', input_dim=(X_train.shape[1])))\n",
    "model.add(tf.keras.layers.Dropout(rate=0.2))\n",
    "model.add(tf.keras.layers.Dense(units=128, activation='tanh', input_dim=(X_train.shape[1])))\n",
    "model.add(tf.keras.layers.Dropout(rate=0.2))\n",
    "model.add(tf.keras.layers.Dense(units=8, activation='softmax', name=\"output_node\"))          \n",
    "model.compile(optimizer='sgd',\n",
    "            loss=tf.keras.losses.cosine_proximity,\n",
    "            metrics=[tf.keras.metrics.cosine_proximity])\n",
    "\n",
    "model.fit(X_train, y_train, epochs=50)\n",
    "\n",
    "# Evaluate model\n",
    "pred_test_mog = model.predict(X_test)\n",
    "pred_test = np.argmax(pred_test_mog, axis=1)\n",
    "pred_test = le.transform(pred_test)\n",
    "pred_test = lb.fit_transform(pred_test)\n",
    "\n",
    "from sklearn.metrics import accuracy_score\n",
    "scores1 = accuracy_score(y_test,pred_test)\n",
    "print('[SCORE1] Accuracy on test data: {}% \\n Error on test data: {}'.format(scores1, 1 - scores1))\n",
    "\n",
    "session = tf.keras.backend.get_session()\n",
    "\n",
    "input_names = [t.op.name for t in model.inputs]\n",
    "output_names = [t.op.name for t in model.outputs]\n",
    "\n",
    "# Prints input and output nodes names, take notes of them.\n",
    "print(input_names, output_names)\n",
    "\n",
    "frozen_graph = freeze_graph(session.graph, session, [out.op.name for out in model.outputs])"
   ]
  },
  {
   "cell_type": "code",
   "execution_count": 111,
   "metadata": {
    "tags": []
   },
   "outputs": [
    {
     "output_type": "stream",
     "name": "stdout",
     "text": "WARNING:tensorflow:From /home/samir/.local/share/virtualenvs/faceNetEmbeddingsClassifier-Sk3WIveA/lib/python3.6/site-packages/tensorflow/python/tools/freeze_graph.py:249: FastGFile.__init__ (from tensorflow.python.platform.gfile) is deprecated and will be removed in a future version.\nInstructions for updating:\nUse tf.gfile.GFile.\n"
    },
    {
     "output_type": "error",
     "ename": "IndexError",
     "evalue": "list index out of range",
     "traceback": [
      "\u001b[0;31m---------------------------------------------------------------------------\u001b[0m",
      "\u001b[0;31mIndexError\u001b[0m                                Traceback (most recent call last)",
      "\u001b[0;32m<ipython-input-111-3b3a6aa73bed>\u001b[0m in \u001b[0;36m<module>\u001b[0;34m\u001b[0m\n\u001b[1;32m      4\u001b[0m                           \u001b[0;34m'model/graph/v2/model_v2.ckpt'\u001b[0m\u001b[0;34m,\u001b[0m \u001b[0mmodel\u001b[0m\u001b[0;34m.\u001b[0m\u001b[0moutput\u001b[0m\u001b[0;34m.\u001b[0m\u001b[0mop\u001b[0m\u001b[0;34m.\u001b[0m\u001b[0mname\u001b[0m\u001b[0;34m,\u001b[0m\u001b[0;34m\u001b[0m\u001b[0;34m\u001b[0m\u001b[0m\n\u001b[1;32m      5\u001b[0m                            \u001b[0;34m\"save/restore_all\"\u001b[0m\u001b[0;34m,\u001b[0m \u001b[0;34m\"save/Const:0\"\u001b[0m\u001b[0;34m,\u001b[0m\u001b[0;34m\u001b[0m\u001b[0;34m\u001b[0m\u001b[0m\n\u001b[0;32m----> 6\u001b[0;31m                            'model/graph/v2/saved/model_v2_.pb', True, \"\")\n\u001b[0m",
      "\u001b[0;32m~/.local/share/virtualenvs/faceNetEmbeddingsClassifier-Sk3WIveA/lib/python3.6/site-packages/tensorflow/python/tools/freeze_graph.py\u001b[0m in \u001b[0;36mfreeze_graph\u001b[0;34m(input_graph, input_saver, input_binary, input_checkpoint, output_node_names, restore_op_name, filename_tensor_name, output_graph, clear_devices, initializer_nodes, variable_names_whitelist, variable_names_blacklist, input_meta_graph, input_saved_model_dir, saved_model_tags, checkpoint_version)\u001b[0m\n\u001b[1;32m    361\u001b[0m       \u001b[0minput_saved_model_dir\u001b[0m\u001b[0;34m,\u001b[0m\u001b[0;34m\u001b[0m\u001b[0;34m\u001b[0m\u001b[0m\n\u001b[1;32m    362\u001b[0m       \u001b[0msaved_model_tags\u001b[0m\u001b[0;34m.\u001b[0m\u001b[0mreplace\u001b[0m\u001b[0;34m(\u001b[0m\u001b[0;34m\" \"\u001b[0m\u001b[0;34m,\u001b[0m \u001b[0;34m\"\"\u001b[0m\u001b[0;34m)\u001b[0m\u001b[0;34m.\u001b[0m\u001b[0msplit\u001b[0m\u001b[0;34m(\u001b[0m\u001b[0;34m\",\"\u001b[0m\u001b[0;34m)\u001b[0m\u001b[0;34m,\u001b[0m\u001b[0;34m\u001b[0m\u001b[0;34m\u001b[0m\u001b[0m\n\u001b[0;32m--> 363\u001b[0;31m       checkpoint_version=checkpoint_version)\n\u001b[0m\u001b[1;32m    364\u001b[0m \u001b[0;34m\u001b[0m\u001b[0m\n\u001b[1;32m    365\u001b[0m \u001b[0;34m\u001b[0m\u001b[0m\n",
      "\u001b[0;32m~/.local/share/virtualenvs/faceNetEmbeddingsClassifier-Sk3WIveA/lib/python3.6/site-packages/tensorflow/python/tools/freeze_graph.py\u001b[0m in \u001b[0;36mfreeze_graph_with_def_protos\u001b[0;34m(***failed resolving arguments***)\u001b[0m\n\u001b[1;32m    188\u001b[0m       \u001b[0;32mtry\u001b[0m\u001b[0;34m:\u001b[0m\u001b[0;34m\u001b[0m\u001b[0;34m\u001b[0m\u001b[0m\n\u001b[1;32m    189\u001b[0m         saver = saver_lib.Saver(\n\u001b[0;32m--> 190\u001b[0;31m             var_list=var_list, write_version=checkpoint_version)\n\u001b[0m\u001b[1;32m    191\u001b[0m       \u001b[0;32mexcept\u001b[0m \u001b[0mTypeError\u001b[0m \u001b[0;32mas\u001b[0m \u001b[0me\u001b[0m\u001b[0;34m:\u001b[0m\u001b[0;34m\u001b[0m\u001b[0;34m\u001b[0m\u001b[0m\n\u001b[1;32m    192\u001b[0m         \u001b[0;31m# `var_list` is required to be a map of variable names to Variable\u001b[0m\u001b[0;34m\u001b[0m\u001b[0;34m\u001b[0m\u001b[0;34m\u001b[0m\u001b[0m\n",
      "\u001b[0;32m~/.local/share/virtualenvs/faceNetEmbeddingsClassifier-Sk3WIveA/lib/python3.6/site-packages/tensorflow/python/training/saver.py\u001b[0m in \u001b[0;36m__init__\u001b[0;34m(self, var_list, reshape, sharded, max_to_keep, keep_checkpoint_every_n_hours, name, restore_sequentially, saver_def, builder, defer_build, allow_empty, write_version, pad_step_number, save_relative_paths, filename)\u001b[0m\n\u001b[1;32m   1100\u001b[0m           time.time() + self._keep_checkpoint_every_n_hours * 3600)\n\u001b[1;32m   1101\u001b[0m     \u001b[0;32melif\u001b[0m \u001b[0;32mnot\u001b[0m \u001b[0mdefer_build\u001b[0m\u001b[0;34m:\u001b[0m\u001b[0;34m\u001b[0m\u001b[0;34m\u001b[0m\u001b[0m\n\u001b[0;32m-> 1102\u001b[0;31m       \u001b[0mself\u001b[0m\u001b[0;34m.\u001b[0m\u001b[0mbuild\u001b[0m\u001b[0;34m(\u001b[0m\u001b[0;34m)\u001b[0m\u001b[0;34m\u001b[0m\u001b[0;34m\u001b[0m\u001b[0m\n\u001b[0m\u001b[1;32m   1103\u001b[0m     \u001b[0;32mif\u001b[0m \u001b[0mself\u001b[0m\u001b[0;34m.\u001b[0m\u001b[0msaver_def\u001b[0m\u001b[0;34m:\u001b[0m\u001b[0;34m\u001b[0m\u001b[0;34m\u001b[0m\u001b[0m\n\u001b[1;32m   1104\u001b[0m       \u001b[0mself\u001b[0m\u001b[0;34m.\u001b[0m\u001b[0m_check_saver_def\u001b[0m\u001b[0;34m(\u001b[0m\u001b[0;34m)\u001b[0m\u001b[0;34m\u001b[0m\u001b[0;34m\u001b[0m\u001b[0m\n",
      "\u001b[0;32m~/.local/share/virtualenvs/faceNetEmbeddingsClassifier-Sk3WIveA/lib/python3.6/site-packages/tensorflow/python/training/saver.py\u001b[0m in \u001b[0;36mbuild\u001b[0;34m(self)\u001b[0m\n\u001b[1;32m   1112\u001b[0m     \u001b[0;32mif\u001b[0m \u001b[0mcontext\u001b[0m\u001b[0;34m.\u001b[0m\u001b[0mexecuting_eagerly\u001b[0m\u001b[0;34m(\u001b[0m\u001b[0;34m)\u001b[0m\u001b[0;34m:\u001b[0m\u001b[0;34m\u001b[0m\u001b[0;34m\u001b[0m\u001b[0m\n\u001b[1;32m   1113\u001b[0m       \u001b[0;32mraise\u001b[0m \u001b[0mRuntimeError\u001b[0m\u001b[0;34m(\u001b[0m\u001b[0;34m\"Use save/restore instead of build in eager mode.\"\u001b[0m\u001b[0;34m)\u001b[0m\u001b[0;34m\u001b[0m\u001b[0;34m\u001b[0m\u001b[0m\n\u001b[0;32m-> 1114\u001b[0;31m     \u001b[0mself\u001b[0m\u001b[0;34m.\u001b[0m\u001b[0m_build\u001b[0m\u001b[0;34m(\u001b[0m\u001b[0mself\u001b[0m\u001b[0;34m.\u001b[0m\u001b[0m_filename\u001b[0m\u001b[0;34m,\u001b[0m \u001b[0mbuild_save\u001b[0m\u001b[0;34m=\u001b[0m\u001b[0;32mTrue\u001b[0m\u001b[0;34m,\u001b[0m \u001b[0mbuild_restore\u001b[0m\u001b[0;34m=\u001b[0m\u001b[0;32mTrue\u001b[0m\u001b[0;34m)\u001b[0m\u001b[0;34m\u001b[0m\u001b[0;34m\u001b[0m\u001b[0m\n\u001b[0m\u001b[1;32m   1115\u001b[0m \u001b[0;34m\u001b[0m\u001b[0m\n\u001b[1;32m   1116\u001b[0m   \u001b[0;32mdef\u001b[0m \u001b[0m_build_eager\u001b[0m\u001b[0;34m(\u001b[0m\u001b[0mself\u001b[0m\u001b[0;34m,\u001b[0m \u001b[0mcheckpoint_path\u001b[0m\u001b[0;34m,\u001b[0m \u001b[0mbuild_save\u001b[0m\u001b[0;34m,\u001b[0m \u001b[0mbuild_restore\u001b[0m\u001b[0;34m)\u001b[0m\u001b[0;34m:\u001b[0m\u001b[0;34m\u001b[0m\u001b[0;34m\u001b[0m\u001b[0m\n",
      "\u001b[0;32m~/.local/share/virtualenvs/faceNetEmbeddingsClassifier-Sk3WIveA/lib/python3.6/site-packages/tensorflow/python/training/saver.py\u001b[0m in \u001b[0;36m_build\u001b[0;34m(self, checkpoint_path, build_save, build_restore)\u001b[0m\n\u001b[1;32m   1149\u001b[0m           \u001b[0mrestore_sequentially\u001b[0m\u001b[0;34m=\u001b[0m\u001b[0mself\u001b[0m\u001b[0;34m.\u001b[0m\u001b[0m_restore_sequentially\u001b[0m\u001b[0;34m,\u001b[0m\u001b[0;34m\u001b[0m\u001b[0;34m\u001b[0m\u001b[0m\n\u001b[1;32m   1150\u001b[0m           \u001b[0mfilename\u001b[0m\u001b[0;34m=\u001b[0m\u001b[0mcheckpoint_path\u001b[0m\u001b[0;34m,\u001b[0m\u001b[0;34m\u001b[0m\u001b[0;34m\u001b[0m\u001b[0m\n\u001b[0;32m-> 1151\u001b[0;31m           build_save=build_save, build_restore=build_restore)\n\u001b[0m\u001b[1;32m   1152\u001b[0m     \u001b[0;32melif\u001b[0m \u001b[0mself\u001b[0m\u001b[0;34m.\u001b[0m\u001b[0msaver_def\u001b[0m \u001b[0;32mand\u001b[0m \u001b[0mself\u001b[0m\u001b[0;34m.\u001b[0m\u001b[0m_name\u001b[0m\u001b[0;34m:\u001b[0m\u001b[0;34m\u001b[0m\u001b[0;34m\u001b[0m\u001b[0m\n\u001b[1;32m   1153\u001b[0m       \u001b[0;31m# Since self._name is used as a name_scope by builder(), we are\u001b[0m\u001b[0;34m\u001b[0m\u001b[0;34m\u001b[0m\u001b[0;34m\u001b[0m\u001b[0m\n",
      "\u001b[0;32m~/.local/share/virtualenvs/faceNetEmbeddingsClassifier-Sk3WIveA/lib/python3.6/site-packages/tensorflow/python/training/saver.py\u001b[0m in \u001b[0;36m_build_internal\u001b[0;34m(self, names_to_saveables, reshape, sharded, max_to_keep, keep_checkpoint_every_n_hours, name, restore_sequentially, filename, build_save, build_restore)\u001b[0m\n\u001b[1;32m    771\u001b[0m                        \" when eager execution is not enabled.\")\n\u001b[1;32m    772\u001b[0m \u001b[0;34m\u001b[0m\u001b[0m\n\u001b[0;32m--> 773\u001b[0;31m     \u001b[0msaveables\u001b[0m \u001b[0;34m=\u001b[0m \u001b[0mself\u001b[0m\u001b[0;34m.\u001b[0m\u001b[0m_ValidateAndSliceInputs\u001b[0m\u001b[0;34m(\u001b[0m\u001b[0mnames_to_saveables\u001b[0m\u001b[0;34m)\u001b[0m\u001b[0;34m\u001b[0m\u001b[0;34m\u001b[0m\u001b[0m\n\u001b[0m\u001b[1;32m    774\u001b[0m     \u001b[0;32mif\u001b[0m \u001b[0mmax_to_keep\u001b[0m \u001b[0;32mis\u001b[0m \u001b[0;32mNone\u001b[0m\u001b[0;34m:\u001b[0m\u001b[0;34m\u001b[0m\u001b[0;34m\u001b[0m\u001b[0m\n\u001b[1;32m    775\u001b[0m       \u001b[0mmax_to_keep\u001b[0m \u001b[0;34m=\u001b[0m \u001b[0;36m0\u001b[0m\u001b[0;34m\u001b[0m\u001b[0;34m\u001b[0m\u001b[0m\n",
      "\u001b[0;32m~/.local/share/virtualenvs/faceNetEmbeddingsClassifier-Sk3WIveA/lib/python3.6/site-packages/tensorflow/python/training/saver.py\u001b[0m in \u001b[0;36m_ValidateAndSliceInputs\u001b[0;34m(self, names_to_saveables)\u001b[0m\n\u001b[1;32m    678\u001b[0m                            \u001b[0;31m# Avoid comparing ops, sort only by name.\u001b[0m\u001b[0;34m\u001b[0m\u001b[0;34m\u001b[0m\u001b[0;34m\u001b[0m\u001b[0m\n\u001b[1;32m    679\u001b[0m                            key=lambda x: x[0]):\n\u001b[0;32m--> 680\u001b[0;31m       \u001b[0;32mfor\u001b[0m \u001b[0mconverted_saveable_object\u001b[0m \u001b[0;32min\u001b[0m \u001b[0mself\u001b[0m\u001b[0;34m.\u001b[0m\u001b[0mSaveableObjectsForOp\u001b[0m\u001b[0;34m(\u001b[0m\u001b[0mop\u001b[0m\u001b[0;34m,\u001b[0m \u001b[0mname\u001b[0m\u001b[0;34m)\u001b[0m\u001b[0;34m:\u001b[0m\u001b[0;34m\u001b[0m\u001b[0;34m\u001b[0m\u001b[0m\n\u001b[0m\u001b[1;32m    681\u001b[0m         \u001b[0mself\u001b[0m\u001b[0;34m.\u001b[0m\u001b[0m_AddSaveable\u001b[0m\u001b[0;34m(\u001b[0m\u001b[0msaveables\u001b[0m\u001b[0;34m,\u001b[0m \u001b[0mseen_ops\u001b[0m\u001b[0;34m,\u001b[0m \u001b[0mconverted_saveable_object\u001b[0m\u001b[0;34m)\u001b[0m\u001b[0;34m\u001b[0m\u001b[0;34m\u001b[0m\u001b[0m\n\u001b[1;32m    682\u001b[0m     \u001b[0;32mreturn\u001b[0m \u001b[0msaveables\u001b[0m\u001b[0;34m\u001b[0m\u001b[0;34m\u001b[0m\u001b[0m\n",
      "\u001b[0;32m~/.local/share/virtualenvs/faceNetEmbeddingsClassifier-Sk3WIveA/lib/python3.6/site-packages/tensorflow/python/training/saver.py\u001b[0m in \u001b[0;36mSaveableObjectsForOp\u001b[0;34m(op, name)\u001b[0m\n\u001b[1;32m    652\u001b[0m         \u001b[0;32melse\u001b[0m\u001b[0;34m:\u001b[0m\u001b[0;34m\u001b[0m\u001b[0;34m\u001b[0m\u001b[0m\n\u001b[1;32m    653\u001b[0m           yield BaseSaverBuilder.ResourceVariableSaveable(\n\u001b[0;32m--> 654\u001b[0;31m               variable, \"\", name)\n\u001b[0m\u001b[1;32m    655\u001b[0m \u001b[0;34m\u001b[0m\u001b[0m\n\u001b[1;32m    656\u001b[0m   \u001b[0;32mdef\u001b[0m \u001b[0m_ValidateAndSliceInputs\u001b[0m\u001b[0;34m(\u001b[0m\u001b[0mself\u001b[0m\u001b[0;34m,\u001b[0m \u001b[0mnames_to_saveables\u001b[0m\u001b[0;34m)\u001b[0m\u001b[0;34m:\u001b[0m\u001b[0;34m\u001b[0m\u001b[0;34m\u001b[0m\u001b[0m\n",
      "\u001b[0;32m~/.local/share/virtualenvs/faceNetEmbeddingsClassifier-Sk3WIveA/lib/python3.6/site-packages/tensorflow/python/training/saver.py\u001b[0m in \u001b[0;36m__init__\u001b[0;34m(self, var, slice_spec, name)\u001b[0m\n\u001b[1;32m    126\u001b[0m       \u001b[0mself\u001b[0m\u001b[0;34m.\u001b[0m\u001b[0m_var_shape\u001b[0m \u001b[0;34m=\u001b[0m \u001b[0mvar\u001b[0m\u001b[0;34m.\u001b[0m\u001b[0mshape\u001b[0m\u001b[0;34m\u001b[0m\u001b[0;34m\u001b[0m\u001b[0m\n\u001b[1;32m    127\u001b[0m       \u001b[0;32mif\u001b[0m \u001b[0misinstance\u001b[0m\u001b[0;34m(\u001b[0m\u001b[0mvar\u001b[0m\u001b[0;34m,\u001b[0m \u001b[0mops\u001b[0m\u001b[0;34m.\u001b[0m\u001b[0mTensor\u001b[0m\u001b[0;34m)\u001b[0m\u001b[0;34m:\u001b[0m\u001b[0;34m\u001b[0m\u001b[0;34m\u001b[0m\u001b[0m\n\u001b[0;32m--> 128\u001b[0;31m         \u001b[0mself\u001b[0m\u001b[0;34m.\u001b[0m\u001b[0mhandle_op\u001b[0m \u001b[0;34m=\u001b[0m \u001b[0mvar\u001b[0m\u001b[0;34m.\u001b[0m\u001b[0mop\u001b[0m\u001b[0;34m.\u001b[0m\u001b[0minputs\u001b[0m\u001b[0;34m[\u001b[0m\u001b[0;36m0\u001b[0m\u001b[0;34m]\u001b[0m\u001b[0;34m\u001b[0m\u001b[0;34m\u001b[0m\u001b[0m\n\u001b[0m\u001b[1;32m    129\u001b[0m         \u001b[0mtensor\u001b[0m \u001b[0;34m=\u001b[0m \u001b[0mvar\u001b[0m\u001b[0;34m\u001b[0m\u001b[0;34m\u001b[0m\u001b[0m\n\u001b[1;32m    130\u001b[0m       \u001b[0;32melif\u001b[0m \u001b[0misinstance\u001b[0m\u001b[0;34m(\u001b[0m\u001b[0mvar\u001b[0m\u001b[0;34m,\u001b[0m \u001b[0mresource_variable_ops\u001b[0m\u001b[0;34m.\u001b[0m\u001b[0mResourceVariable\u001b[0m\u001b[0;34m)\u001b[0m\u001b[0;34m:\u001b[0m\u001b[0;34m\u001b[0m\u001b[0;34m\u001b[0m\u001b[0m\n",
      "\u001b[0;32m~/.local/share/virtualenvs/faceNetEmbeddingsClassifier-Sk3WIveA/lib/python3.6/site-packages/tensorflow/python/framework/ops.py\u001b[0m in \u001b[0;36m__getitem__\u001b[0;34m(self, i)\u001b[0m\n\u001b[1;32m   2126\u001b[0m \u001b[0;34m\u001b[0m\u001b[0m\n\u001b[1;32m   2127\u001b[0m     \u001b[0;32mdef\u001b[0m \u001b[0m__getitem__\u001b[0m\u001b[0;34m(\u001b[0m\u001b[0mself\u001b[0m\u001b[0;34m,\u001b[0m \u001b[0mi\u001b[0m\u001b[0;34m)\u001b[0m\u001b[0;34m:\u001b[0m\u001b[0;34m\u001b[0m\u001b[0;34m\u001b[0m\u001b[0m\n\u001b[0;32m-> 2128\u001b[0;31m       \u001b[0;32mreturn\u001b[0m \u001b[0mself\u001b[0m\u001b[0;34m.\u001b[0m\u001b[0m_inputs\u001b[0m\u001b[0;34m[\u001b[0m\u001b[0mi\u001b[0m\u001b[0;34m]\u001b[0m\u001b[0;34m\u001b[0m\u001b[0;34m\u001b[0m\u001b[0m\n\u001b[0m\u001b[1;32m   2129\u001b[0m \u001b[0;34m\u001b[0m\u001b[0m\n\u001b[1;32m   2130\u001b[0m \u001b[0;31m# pylint: enable=protected-access\u001b[0m\u001b[0;34m\u001b[0m\u001b[0;34m\u001b[0m\u001b[0;34m\u001b[0m\u001b[0m\n",
      "\u001b[0;31mIndexError\u001b[0m: list index out of range"
     ]
    }
   ],
   "source": [
    "from tensorflow.python.tools import freeze_graph\n",
    "\n",
    "freeze_graph.freeze_graph('model/graph/v2/model_v2_.pbtxt', \"\", False, \n",
    "                          'model/graph/v2/model_v2.ckpt', model.output.op.name,\n",
    "                           \"save/restore_all\", \"save/Const:0\",\n",
    "                           'model/graph/v2/saved/model_v2_.pb', True, \"\")"
   ]
  },
  {
   "cell_type": "code",
   "execution_count": null,
   "metadata": {},
   "outputs": [],
   "source": []
  }
 ]
}